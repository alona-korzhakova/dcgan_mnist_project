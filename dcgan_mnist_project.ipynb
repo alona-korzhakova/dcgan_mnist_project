{
 "cells": [
  {
   "cell_type": "markdown",
   "metadata": {},
   "source": [
    "# Offline DL Task\n",
    "## MNIST Images Reconstruction through DCGAN's Framework Generator \n"
   ]
  },
  {
   "cell_type": "markdown",
   "metadata": {},
   "source": [
    "## Description\n",
    "\n",
    "In this task, I implemented the convolutional generative model G and the binary classifier D as a part of the DCGAN framework. Both models are being trained on the MNIST dataset. The first part of the task is about training G, which learns to produce random images of digits from a latent space vector h sampled from a standard normal distribution. The main role of D is to get an image as an input and guess whether it came from the original dataset or the one synthesized by G. In simple words, G tries to trick D while D tries to reveal the truth. As such, both G and D contribute to each other's learning process. Trus, this type of learning is an unsupervised one that needs not original dataset labeling. Eventually, the goal is to train a high-quality G.\n",
    "\n",
    "In the second part Encoder E performs MNIST images encoding into a latent space vector h_E. Then it feeds h_E to G. G, in its turn, has to output the image close to the input image of E. Since I didn't get the task right first, I created a simple Autoencoder model with E and decoder inside, trained both encoder and decoder. Once E was trained - I passed the MNIST image to E, which compressed it and transmited to G, which had to reconstruct the image very close to the original one. Of course, it didn't work, so now I trained autonomous Encoder on DCGAN's generator. I still left my first interpretation, since it holds a lot of useful comments and shows that encoder-decoder models trained independently cannot produce a meaningful result together.  "
   ]
  },
  {
   "cell_type": "markdown",
   "metadata": {},
   "source": [
    "### Used Materials"
   ]
  },
  {
   "cell_type": "markdown",
   "metadata": {},
   "source": [
    "Doing this task I was using the following sources:\n",
    "\n",
    "- Unsupervised Representation Learning with Deep Convolutional Generative Adversarial Networks paper:\n",
    "  https://arxiv.org/pdf/1511.06434.pdf\n",
    "- https://pytorch.org/tutorials/beginner/dcgan_faces_tutorial.html\n",
    "- https://deeplizard.com/learn/video/lu7TCu7HeYc\n",
    "- https://pytorch.org/vision/stable/index.html\n",
    "- https://medium.com/@attyuttam/generative-adversarial-networks-using-pytorch-3ad31cc61ac8\n",
    "- https://towardsdatascience.com/how-to-generate-images-using-autoencoders-acfbc6c3555e\n",
    "- https://www.wouterbulten.nl/blog/tech/getting-started-with-generative-adversarial-networks/\n",
    "- https://yashk2810.github.io/Applying-Convolutional-Neural-Network-on-the-MNIST-dataset/\n",
    "- https://towardsdatascience.com/understanding-latent-space-in-machine-learning-de5a7c687d8d\n",
    "- https://medium.com/the-theory-of-everything/understanding-activation-functions-in-neural-networks-9491262884e0\n",
    "- https://towardsdatascience.com/a-comprehensive-guide-to-convolutional-neural-networks-the-eli5-way-3bd2b1164a53\n",
    "- https://machinelearningmastery.com/batch-normalization-for-training-of-deep-neural-networks/\n",
    "- https://nn.labml.ai/gan/dcgan.html\n",
    "- https://www.cs.toronto.edu/~lczhang/360/lec/w05/autoencoder.html\n",
    "- http://people.sabanciuniv.edu/berrin/cs512/lectures/naivebayes-good.pdf\n",
    "\n",
    "The list is non-exhausive."
   ]
  },
  {
   "cell_type": "markdown",
   "metadata": {},
   "source": [
    "## Implementation"
   ]
  },
  {
   "cell_type": "markdown",
   "metadata": {},
   "source": [
    "## Part 1"
   ]
  },
  {
   "cell_type": "markdown",
   "metadata": {},
   "source": [
    "### Importing Libraries"
   ]
  },
  {
   "cell_type": "code",
   "execution_count": 1,
   "metadata": {},
   "outputs": [],
   "source": [
    "import os\n",
    "import random\n",
    "import numpy as np\n",
    "import torch\n",
    "import torchvision\n",
    "from torchvision.transforms import ToTensor, Normalize, Compose\n",
    "from torchvision.datasets import MNIST\n",
    "import matplotlib.pyplot as plt\n",
    "# the static images of the plot will be embedded in the notebook\n",
    "%matplotlib inline \n",
    "from torch.utils.data import DataLoader\n",
    "import torch.nn as nn\n",
    "import torch.optim as optim"
   ]
  },
  {
   "cell_type": "markdown",
   "metadata": {},
   "source": [
    "#### Checking Python Version"
   ]
  },
  {
   "cell_type": "markdown",
   "metadata": {},
   "source": [
    "I used at least one feature in this code inherent to python3 only. So I assume the code will be run on python3."
   ]
  },
  {
   "cell_type": "code",
   "execution_count": 2,
   "metadata": {},
   "outputs": [
    {
     "name": "stdout",
     "output_type": "stream",
     "text": [
      "python version:  3.6.9\n"
     ]
    }
   ],
   "source": [
    "# checking python version, I assume the code will run on python3\n",
    "import platform\n",
    "print('python version: ', platform.python_version())"
   ]
  },
  {
   "cell_type": "markdown",
   "metadata": {},
   "source": [
    "### Ensuring reproducibility"
   ]
  },
  {
   "cell_type": "markdown",
   "metadata": {},
   "source": [
    "The below code sets fixed seeds for reproducibility that eases the development process, yet adds a bit of more computational load on the system."
   ]
  },
  {
   "cell_type": "code",
   "execution_count": 3,
   "metadata": {},
   "outputs": [],
   "source": [
    "fixed_seed = 26\n",
    "\n",
    "random.seed(fixed_seed)              # setting the seed in python random number generator\n",
    "torch.manual_seed(fixed_seed)        # setting the seed of pytorch random number generator\n",
    "np.random.seed(fixed_seed)           # setting the seed of numpy random number generator\n",
    "torch.backends.cudnn.enabled = False # disabling some nondeterministic algorithms cudnn uses"
   ]
  },
  {
   "cell_type": "markdown",
   "metadata": {},
   "source": [
    "### Constants"
   ]
  },
  {
   "cell_type": "code",
   "execution_count": 1,
   "metadata": {},
   "outputs": [],
   "source": [
    "batch_size  = 128          # batch_size from DCGAN paper\n",
    "dataroot    = \"./data\"     # root directory for dataset to load into\n",
    "modelroot   = \"./model\"    # root directory for storing model's state dictionaries\n",
    "latent_size = 100          # number of channels in h latent vector, taken from DCGAN paper\n",
    "ngf         = 256          # size of feature maps in generator; we can think of it as of a number of input channels in the last ConvTranspose2d layer\n",
    "ndf         = 256          # size of feature maps in discriminaror; we can think of it as of a number of output channels in the first Conv2d layer\n",
    "nc          = 1            # number of channels of the output image, mnist is a dataset of grayscale images, so we have 1 color channel here"
   ]
  },
  {
   "cell_type": "markdown",
   "metadata": {},
   "source": [
    "### MNIST Dataset Loading"
   ]
  },
  {
   "cell_type": "code",
   "execution_count": 5,
   "metadata": {},
   "outputs": [],
   "source": [
    "#Create data directory if does not exist\n",
    "if not os.path.exists(dataroot):\n",
    "    os.mkdir(dataroot)"
   ]
  },
  {
   "cell_type": "code",
   "execution_count": 9,
   "metadata": {},
   "outputs": [
    {
     "name": "stdout",
     "output_type": "stream",
     "text": [
      "Downloading http://yann.lecun.com/exdb/mnist/train-images-idx3-ubyte.gz\n",
      "Downloading http://yann.lecun.com/exdb/mnist/train-labels-idx1-ubyte.gz\n",
      "Downloading http://yann.lecun.com/exdb/mnist/t10k-images-idx3-ubyte.gz\n",
      "Downloading http://yann.lecun.com/exdb/mnist/t10k-labels-idx1-ubyte.gz\n",
      "Processing...\n",
      "Done!\n"
     ]
    }
   ],
   "source": [
    "# Loading and preprocessing images.\n",
    "\n",
    "# ToTensor() converts obtained PIL.Image into torch.FloatTensor.\n",
    "# Each pixel gets converted into a number depending on the pixel's brightness, where 0 is black, 255 is white.\n",
    "# Afterwards each pixel is devided by 255 and thus is being placed into a range [0.0, 1.0].\n",
    "\n",
    "# Normalize() converts an actual range of values into a standard range of values, in our case [-1.0, 1.0].\n",
    "# It works by subtracting the mean from the actual value and dividing by the standard deviation.\n",
    "# E.g. pixel with the minimal value 0 will be converted to -1 (0 - 0.5 / 0.5 = -1).\n",
    "\n",
    "mnist = MNIST(root=dataroot,   # we won't need validation dataset in either parts of the task, so downloading train dataset only\n",
    "              train=True, \n",
    "              download=True,\n",
    "              transform=Compose([ToTensor(), Normalize(mean=(0.5,), std=(0.5,))]))"
   ]
  },
  {
   "cell_type": "markdown",
   "metadata": {},
   "source": [
    "### Dataset Review"
   ]
  },
  {
   "cell_type": "markdown",
   "metadata": {},
   "source": [
    "#### Tensor overview"
   ]
  },
  {
   "cell_type": "markdown",
   "metadata": {},
   "source": [
    "A small sanity check on the downloaded data."
   ]
  },
  {
   "cell_type": "code",
   "execution_count": 9,
   "metadata": {},
   "outputs": [
    {
     "name": "stdout",
     "output_type": "stream",
     "text": [
      "label:  tensor(5)\n",
      "tensor([[[ 0.4588,  0.9843,  0.9843,  0.1765, -0.7882],\n",
      "         [-0.8745, -0.2706,  0.9765,  0.9843,  0.4667],\n",
      "         [-1.0000, -1.0000,  0.9529,  0.9843,  0.9529],\n",
      "         [ 0.0196,  0.4353,  0.9843,  0.9843,  0.6235],\n",
      "         [ 0.9843,  0.9843,  0.9843,  0.9608,  0.4275]]])\n"
     ]
    },
    {
     "data": {
      "text/plain": [
       "(tensor(-1.), tensor(1.))"
      ]
     },
     "execution_count": 9,
     "metadata": {},
     "output_type": "execute_result"
    }
   ],
   "source": [
    "image, label = mnist[0]\n",
    "print('label: ', label)\n",
    "print(image[:,15:20,15:20])\n",
    "torch.min(image), torch.max(image)"
   ]
  },
  {
   "cell_type": "markdown",
   "metadata": {},
   "source": [
    "Above is a tensor representation of one of the mnist's images.\n",
    "This should be an image of digit 5, which we can inference from the label.\n",
    "The values in the range are also the ones expected."
   ]
  },
  {
   "cell_type": "markdown",
   "metadata": {},
   "source": [
    "#### Image overview"
   ]
  },
  {
   "cell_type": "markdown",
   "metadata": {},
   "source": [
    "Now we will observe the same sample on the chart."
   ]
  },
  {
   "cell_type": "code",
   "execution_count": 10,
   "metadata": {},
   "outputs": [
    {
     "name": "stdout",
     "output_type": "stream",
     "text": [
      "label: tensor(5)\n"
     ]
    },
    {
     "data": {
      "image/png": "[encoded data removed]",
      "text/plain": [
       "<Figure size 432x288 with 1 Axes>"
      ]
     },
     "metadata": {
      "needs_background": "light"
     },
     "output_type": "display_data"
    }
   ],
   "source": [
    "plt.imshow(image[0], cmap='gray')\n",
    "print('label:', label)"
   ]
  },
  {
   "cell_type": "markdown",
   "metadata": {},
   "source": [
    "We see 5 on the image, the very same digit we expected to see."
   ]
  },
  {
   "cell_type": "markdown",
   "metadata": {},
   "source": [
    "### Setting the Device for Model to Load on"
   ]
  },
  {
   "cell_type": "markdown",
   "metadata": {},
   "source": [
    "Ideally, the computations from the task, especially the ones with DCGAN, should be performed from GPU, but I'm still listing both variants."
   ]
  },
  {
   "cell_type": "code",
   "execution_count": 10,
   "metadata": {},
   "outputs": [
    {
     "name": "stdout",
     "output_type": "stream",
     "text": [
      "running on GPU\n"
     ]
    }
   ],
   "source": [
    "if torch.cuda.is_available():\n",
    "    print(\"running on GPU\")\n",
    "    device = torch.device(\"cuda:0\")\n",
    "    num_gpu = 1\n",
    "    workers = 8 # the number of worker threads for loading the data\n",
    "else:\n",
    "    print(\"running on CPU\")\n",
    "    device = torch.device(\"cpu\")\n",
    "    num_gpu = 0\n",
    "    workers = 1"
   ]
  },
  {
   "cell_type": "markdown",
   "metadata": {},
   "source": [
    "### Preparing the data for training with DataLoader"
   ]
  },
  {
   "cell_type": "markdown",
   "metadata": {},
   "source": [
    "DataLoader is an iterable, that will come in handy when accessing the samples during the training. Our pre-loaded mnist dataset already arranged features and labels for us, although we won't use the latter. DataLoader in its turn wraps an iterable around the dataset and allows passing samples in batches of data. I will also set reshuffle so that the data will be reshuffled at every epoch, that is in most cases speeds up learning. "
   ]
  },
  {
   "cell_type": "code",
   "execution_count": 11,
   "metadata": {},
   "outputs": [],
   "source": [
    "dataloader = DataLoader(mnist, batch_size, shuffle=True, num_workers=workers) # passing dataset, num of images we want to see in a batch, shuffle, num of threads "
   ]
  },
  {
   "cell_type": "markdown",
   "metadata": {},
   "source": [
    "#### Data Overview in Dataloader"
   ]
  },
  {
   "cell_type": "markdown",
   "metadata": {},
   "source": [
    "A small sanity check of the data wrapped by dataloader."
   ]
  },
  {
   "cell_type": "code",
   "execution_count": 13,
   "metadata": {},
   "outputs": [
    {
     "name": "stdout",
     "output_type": "stream",
     "text": [
      "torch.Size([128, 1, 28, 28])\n"
     ]
    },
    {
     "data": {
      "image/png": "[encoded data removed]",
      "text/plain": [
       "<Figure size 432x288 with 1 Axes>"
      ]
     },
     "metadata": {
      "needs_background": "light"
     },
     "output_type": "display_data"
    }
   ],
   "source": [
    "for images, labels in dataloader:\n",
    "    print(images.shape)\n",
    "    plt.imshow(images[0][0], cmap='gray')\n",
    "    break"
   ]
  },
  {
   "cell_type": "markdown",
   "metadata": {},
   "source": [
    "We see that we have 128 samples of 1 color channel, each 28x28 pixels."
   ]
  },
  {
   "cell_type": "markdown",
   "metadata": {},
   "source": [
    "### Weights Initialization"
   ]
  },
  {
   "cell_type": "markdown",
   "metadata": {},
   "source": [
    "Weights and biases are the learnable parameters of the dataset. I will init those values, but the model will be tuning them accordingly during the training.\n",
    "According to DCGAN paper \"All weights were initialized from a zero-centered Normal distribution with standard deviation 0.02\", so I'm setting the same values: mean = 0.00, std = 0.02. In fact, weights_init function performs reinitialization in already initialized model for all the convolutional, convolutional-transpose, and batch normalization layers."
   ]
  },
  {
   "cell_type": "code",
   "execution_count": 13,
   "metadata": {},
   "outputs": [],
   "source": [
    "def weights_init(m):\n",
    "    classname = m.__class__.__name__\n",
    "    if classname.find('Conv') != -1:\n",
    "        nn.init.normal_(m.weight.data, 0.0, 0.02) # fills module weights with values drawn from the normal distribution\n",
    "    elif classname.find('BatchNorm') != -1:\n",
    "        nn.init.normal_(m.weight.data, 1.0, 0.02)\n",
    "        nn.init.constant_(m.bias.data, 0)         # sets bias in BatchNorm layer to 0, that makes learning rate to become equal for each neuron, that speeds up overall learning"
   ]
  },
  {
   "cell_type": "markdown",
   "metadata": {},
   "source": [
    "## Part 1. DCGAN Models\n",
    "## h --> G --> x"
   ]
  },
  {
   "cell_type": "markdown",
   "metadata": {},
   "source": [
    "### Generator"
   ]
  },
  {
   "cell_type": "markdown",
   "metadata": {},
   "source": [
    "Generator G maps a latent space vector h to a data-space. While training it aims to asses the distribution forming real images and use this knowledge to create plausible fakes. The model tries to maximize the probability of cheating Descriminator D."
   ]
  },
  {
   "cell_type": "code",
   "execution_count": 14,
   "metadata": {},
   "outputs": [],
   "source": [
    "class Generator(nn.Module):               # Module is the base class that should be inhereted by all the neural network models\n",
    "    def __init__(self):                   # costructor \n",
    "        super().__init__()                # calls the constructor of the parent class, in python 2 it would be written as super(Generator, self).__init__()\n",
    "        self.main = nn.Sequential(\n",
    "            # nn.ConvTranspose2d(in_channels, out_channels, kernel_size, stride=1, padding=0, bias=True) input params that will be set\n",
    "            # input is 1 x 1 latent space vector h with 100 channels\n",
    "            nn.ConvTranspose2d(latent_size, ngf * 4, 3, 1, 0, bias=False), # fractionally-strided convolution, in DCGAN it is used instead of pooling layers in GAN\n",
    "            nn.BatchNorm2d(ngf * 4),\n",
    "            nn.ReLU(True),\n",
    "            # 3 x 3 layer with 1024 channels\n",
    "            nn.ConvTranspose2d(ngf * 4, ngf * 2, 3, 2, 0, bias=False),\n",
    "            nn.BatchNorm2d(ngf * 2),\n",
    "            nn.ReLU(True),\n",
    "            # 7 x 7 layer with 512 channels\n",
    "            nn.ConvTranspose2d(ngf * 2, ngf, 4, 2, 1, bias=False),\n",
    "            nn.BatchNorm2d(ngf),\n",
    "            nn.ReLU(True),\n",
    "            # 14 x 14 layer with 256 channels\n",
    "            nn.ConvTranspose2d(ngf, nc, 4, 2, 1, bias=False),\n",
    "            nn.Tanh() # converts all inputs into the (-1.0, 1.0) range\n",
    "            # 28 x 28 layer with 1 channel\n",
    "        )\n",
    "\n",
    "    def forward(self, input):\n",
    "        return self.main(input)"
   ]
  },
  {
   "cell_type": "markdown",
   "metadata": {},
   "source": [
    "#### Generator instantiation"
   ]
  },
  {
   "cell_type": "code",
   "execution_count": 15,
   "metadata": {},
   "outputs": [
    {
     "name": "stdout",
     "output_type": "stream",
     "text": [
      "Generator(\n",
      "  (main): Sequential(\n",
      "    (0): ConvTranspose2d(100, 1024, kernel_size=(3, 3), stride=(1, 1), bias=False)\n",
      "    (1): BatchNorm2d(1024, eps=1e-05, momentum=0.1, affine=True, track_running_stats=True)\n",
      "    (2): ReLU(inplace=True)\n",
      "    (3): ConvTranspose2d(1024, 512, kernel_size=(3, 3), stride=(2, 2), bias=False)\n",
      "    (4): BatchNorm2d(512, eps=1e-05, momentum=0.1, affine=True, track_running_stats=True)\n",
      "    (5): ReLU(inplace=True)\n",
      "    (6): ConvTranspose2d(512, 256, kernel_size=(4, 4), stride=(2, 2), padding=(1, 1), bias=False)\n",
      "    (7): BatchNorm2d(256, eps=1e-05, momentum=0.1, affine=True, track_running_stats=True)\n",
      "    (8): ReLU(inplace=True)\n",
      "    (9): ConvTranspose2d(256, 1, kernel_size=(4, 4), stride=(2, 2), padding=(1, 1), bias=False)\n",
      "    (10): Tanh()\n",
      "  )\n",
      ")\n"
     ]
    }
   ],
   "source": [
    "G = Generator().to(device) # load model instance to the device\n",
    "G.apply(weights_init)      # will initialize the weights for every layer \n",
    "print(G)"
   ]
  },
  {
   "cell_type": "markdown",
   "metadata": {},
   "source": [
    "### Discriminator"
   ]
  },
  {
   "cell_type": "markdown",
   "metadata": {},
   "source": [
    "Discriminator will learn to differentiate between real and fake input images."
   ]
  },
  {
   "cell_type": "code",
   "execution_count": 16,
   "metadata": {},
   "outputs": [],
   "source": [
    "class Discriminator(nn.Module):\n",
    "    def __init__(self):\n",
    "        super().__init__()\n",
    "        self.main = nn.Sequential(\n",
    "            # input is a grayscale image 28 x 28\n",
    "            # nn.Conv2d(in_channels, out_channels, kernel_size, stride=1, padding=0, bias=True) input params that will be set\n",
    "            nn.Conv2d(nc, ndf, 4, 2, 1, bias=False),\n",
    "            nn.LeakyReLU(0.2, inplace=True),\n",
    "            # 14 x 14 layer with 256 channels\n",
    "            nn.Conv2d(ndf, ndf * 2, 4, 2, 1, bias=False),\n",
    "            nn.BatchNorm2d(ndf * 2),\n",
    "            nn.LeakyReLU(0.2, inplace=True),\n",
    "            # 7 x 7 layer with 512 channels\n",
    "            nn.Conv2d(ndf * 2, ndf * 4, 3, 2, 0, bias=False),\n",
    "            nn.BatchNorm2d(ndf * 4),\n",
    "            nn.LeakyReLU(0.2, inplace=True),\n",
    "            # 3 x 3 layer with 1024 channels\n",
    "            nn.Conv2d(ndf * 4, 1, 3, 1, 0, bias=False),\n",
    "            nn.Sigmoid() # used to classify whether an input image is fake or real, returns a value in the rage [0; 1]\n",
    "        )\n",
    "\n",
    "    def forward(self, input):\n",
    "        return self.main(input)"
   ]
  },
  {
   "cell_type": "markdown",
   "metadata": {},
   "source": [
    "#### Discriminator instantiation"
   ]
  },
  {
   "cell_type": "code",
   "execution_count": 17,
   "metadata": {},
   "outputs": [
    {
     "name": "stdout",
     "output_type": "stream",
     "text": [
      "Discriminator(\n",
      "  (main): Sequential(\n",
      "    (0): Conv2d(1, 256, kernel_size=(4, 4), stride=(2, 2), padding=(1, 1), bias=False)\n",
      "    (1): LeakyReLU(negative_slope=0.2, inplace=True)\n",
      "    (2): Conv2d(256, 512, kernel_size=(4, 4), stride=(2, 2), padding=(1, 1), bias=False)\n",
      "    (3): BatchNorm2d(512, eps=1e-05, momentum=0.1, affine=True, track_running_stats=True)\n",
      "    (4): LeakyReLU(negative_slope=0.2, inplace=True)\n",
      "    (5): Conv2d(512, 1024, kernel_size=(3, 3), stride=(2, 2), bias=False)\n",
      "    (6): BatchNorm2d(1024, eps=1e-05, momentum=0.1, affine=True, track_running_stats=True)\n",
      "    (7): LeakyReLU(negative_slope=0.2, inplace=True)\n",
      "    (8): Conv2d(1024, 1, kernel_size=(3, 3), stride=(1, 1), bias=False)\n",
      "    (9): Sigmoid()\n",
      "  )\n",
      ")\n"
     ]
    }
   ],
   "source": [
    "D = Discriminator().to(device)\n",
    "D.apply(weights_init)\n",
    "print(D)"
   ]
  },
  {
   "cell_type": "markdown",
   "metadata": {},
   "source": [
    "### load model parameters instead of training if needed"
   ]
  },
  {
   "cell_type": "code",
   "execution_count": 18,
   "metadata": {},
   "outputs": [
    {
     "data": {
      "text/plain": [
       "Generator(\n",
       "  (main): Sequential(\n",
       "    (0): ConvTranspose2d(100, 1024, kernel_size=(3, 3), stride=(1, 1), bias=False)\n",
       "    (1): BatchNorm2d(1024, eps=1e-05, momentum=0.1, affine=True, track_running_stats=True)\n",
       "    (2): ReLU(inplace=True)\n",
       "    (3): ConvTranspose2d(1024, 512, kernel_size=(3, 3), stride=(2, 2), bias=False)\n",
       "    (4): BatchNorm2d(512, eps=1e-05, momentum=0.1, affine=True, track_running_stats=True)\n",
       "    (5): ReLU(inplace=True)\n",
       "    (6): ConvTranspose2d(512, 256, kernel_size=(4, 4), stride=(2, 2), padding=(1, 1), bias=False)\n",
       "    (7): BatchNorm2d(256, eps=1e-05, momentum=0.1, affine=True, track_running_stats=True)\n",
       "    (8): ReLU(inplace=True)\n",
       "    (9): ConvTranspose2d(256, 1, kernel_size=(4, 4), stride=(2, 2), padding=(1, 1), bias=False)\n",
       "    (10): Tanh()\n",
       "  )\n",
       ")"
      ]
     },
     "execution_count": 18,
     "metadata": {},
     "output_type": "execute_result"
    }
   ],
   "source": [
    "G.load_state_dict(torch.load(os.path.join(modelroot, 'g_state_dict.pt')))\n",
    "G.eval()"
   ]
  },
  {
   "cell_type": "code",
   "execution_count": 19,
   "metadata": {},
   "outputs": [
    {
     "data": {
      "text/plain": [
       "Discriminator(\n",
       "  (main): Sequential(\n",
       "    (0): Conv2d(1, 256, kernel_size=(4, 4), stride=(2, 2), padding=(1, 1), bias=False)\n",
       "    (1): LeakyReLU(negative_slope=0.2, inplace=True)\n",
       "    (2): Conv2d(256, 512, kernel_size=(4, 4), stride=(2, 2), padding=(1, 1), bias=False)\n",
       "    (3): BatchNorm2d(512, eps=1e-05, momentum=0.1, affine=True, track_running_stats=True)\n",
       "    (4): LeakyReLU(negative_slope=0.2, inplace=True)\n",
       "    (5): Conv2d(512, 1024, kernel_size=(3, 3), stride=(2, 2), bias=False)\n",
       "    (6): BatchNorm2d(1024, eps=1e-05, momentum=0.1, affine=True, track_running_stats=True)\n",
       "    (7): LeakyReLU(negative_slope=0.2, inplace=True)\n",
       "    (8): Conv2d(1024, 1, kernel_size=(3, 3), stride=(1, 1), bias=False)\n",
       "    (9): Sigmoid()\n",
       "  )\n",
       ")"
      ]
     },
     "execution_count": 19,
     "metadata": {},
     "output_type": "execute_result"
    }
   ],
   "source": [
    "D.load_state_dict(torch.load(os.path.join(modelroot, 'd_state_dict.pt')))\n",
    "D.eval()"
   ]
  },
  {
   "cell_type": "markdown",
   "metadata": {},
   "source": [
    "### Loss Functions and Optimizers"
   ]
  },
  {
   "cell_type": "markdown",
   "metadata": {},
   "source": [
    "Loss functions shows us how well the model performed. Then optimization algorithm is using this data to tune the learnable parameters in order to minimize the divergence."
   ]
  },
  {
   "cell_type": "code",
   "execution_count": 20,
   "metadata": {},
   "outputs": [],
   "source": [
    "criterion = nn.BCELoss() # Since we are working with binary classifier (discriminator will tell us whether the image is real or fake), Binary Cross Entropy loss function is used.\n",
    "\n",
    "# Creating a batch of latent vectors drawn from the normal distribution that will be used to visualize the progress of the generator\n",
    "num_of_fixed_h = 10\n",
    "fixed_h = torch.randn(num_of_fixed_h, latent_size, 1, 1, device=device) # will return a tensor filled with random numbers with mean 0.0 and std 1.0\n",
    "\n",
    "beta1 = 0.5 # coefficient used in Adam optimizer for computing running averages of gradient and its square (default: (0.9, 0.999)); DCGAN papaer sets 1st coef. to 0.5\n",
    "lr = 0.0002 # learning rate for training, DCGAN sets 0.0002\n",
    "\n",
    "# Adam optimization\n",
    "optimizer_G = optim.Adam(G.parameters(), lr=lr, betas=(beta1, 0.999))\n",
    "optimizer_D = optim.Adam(D.parameters(), lr=lr, betas=(beta1, 0.999))"
   ]
  },
  {
   "cell_type": "markdown",
   "metadata": {},
   "source": [
    "### Training"
   ]
  },
  {
   "cell_type": "markdown",
   "metadata": {},
   "source": [
    "Put D and G into training mode. Batchnorm layer (and Dropout if I had used it) will get enabled."
   ]
  },
  {
   "cell_type": "code",
   "execution_count": 20,
   "metadata": {},
   "outputs": [
    {
     "data": {
      "text/plain": [
       "Discriminator(\n",
       "  (main): Sequential(\n",
       "    (0): Conv2d(1, 256, kernel_size=(4, 4), stride=(2, 2), padding=(1, 1), bias=False)\n",
       "    (1): LeakyReLU(negative_slope=0.2, inplace=True)\n",
       "    (2): Conv2d(256, 512, kernel_size=(4, 4), stride=(2, 2), padding=(1, 1), bias=False)\n",
       "    (3): BatchNorm2d(512, eps=1e-05, momentum=0.1, affine=True, track_running_stats=True)\n",
       "    (4): LeakyReLU(negative_slope=0.2, inplace=True)\n",
       "    (5): Conv2d(512, 1024, kernel_size=(3, 3), stride=(2, 2), bias=False)\n",
       "    (6): BatchNorm2d(1024, eps=1e-05, momentum=0.1, affine=True, track_running_stats=True)\n",
       "    (7): LeakyReLU(negative_slope=0.2, inplace=True)\n",
       "    (8): Conv2d(1024, 1, kernel_size=(3, 3), stride=(1, 1), bias=False)\n",
       "    (9): Sigmoid()\n",
       "  )\n",
       ")"
      ]
     },
     "execution_count": 20,
     "metadata": {},
     "output_type": "execute_result"
    }
   ],
   "source": [
    "D.train()"
   ]
  },
  {
   "cell_type": "code",
   "execution_count": 21,
   "metadata": {},
   "outputs": [
    {
     "data": {
      "text/plain": [
       "Generator(\n",
       "  (main): Sequential(\n",
       "    (0): ConvTranspose2d(100, 1024, kernel_size=(3, 3), stride=(1, 1), bias=False)\n",
       "    (1): BatchNorm2d(1024, eps=1e-05, momentum=0.1, affine=True, track_running_stats=True)\n",
       "    (2): ReLU(inplace=True)\n",
       "    (3): ConvTranspose2d(1024, 512, kernel_size=(3, 3), stride=(2, 2), bias=False)\n",
       "    (4): BatchNorm2d(512, eps=1e-05, momentum=0.1, affine=True, track_running_stats=True)\n",
       "    (5): ReLU(inplace=True)\n",
       "    (6): ConvTranspose2d(512, 256, kernel_size=(4, 4), stride=(2, 2), padding=(1, 1), bias=False)\n",
       "    (7): BatchNorm2d(256, eps=1e-05, momentum=0.1, affine=True, track_running_stats=True)\n",
       "    (8): ReLU(inplace=True)\n",
       "    (9): ConvTranspose2d(256, 1, kernel_size=(4, 4), stride=(2, 2), padding=(1, 1), bias=False)\n",
       "    (10): Tanh()\n",
       "  )\n",
       ")"
      ]
     },
     "execution_count": 21,
     "metadata": {},
     "output_type": "execute_result"
    }
   ],
   "source": [
    "G.train()"
   ]
  },
  {
   "cell_type": "code",
   "execution_count": 24,
   "metadata": {},
   "outputs": [
    {
     "name": "stdout",
     "output_type": "stream",
     "text": [
      "epoch: [1/20];\tloss_D: 0.7376;\tloss_G = 2.1469;\tD(x) = 0.7467;\tD(G(h0)) = 0.2523;\tD(G(h1)) = 0.1977\n",
      "epoch: [2/20];\tloss_D: 0.7661;\tloss_G = 2.1376;\tD(x) = 0.7347;\tD(G(h0)) = 0.2644;\tD(G(h1)) = 0.2037\n",
      "epoch: [3/20];\tloss_D: 0.7983;\tloss_G = 2.1228;\tD(x) = 0.7273;\tD(G(h0)) = 0.2717;\tD(G(h1)) = 0.2075\n",
      "epoch: [4/20];\tloss_D: 0.7892;\tloss_G = 2.1478;\tD(x) = 0.7295;\tD(G(h0)) = 0.2695;\tD(G(h1)) = 0.2046\n",
      "epoch: [5/20];\tloss_D: 0.8073;\tloss_G = 2.1503;\tD(x) = 0.7269;\tD(G(h0)) = 0.2722;\tD(G(h1)) = 0.2052\n",
      "epoch: [6/20];\tloss_D: 0.7324;\tloss_G = 2.2805;\tD(x) = 0.7455;\tD(G(h0)) = 0.2531;\tD(G(h1)) = 0.1876\n",
      "epoch: [7/20];\tloss_D: 0.7870;\tloss_G = 2.2648;\tD(x) = 0.7383;\tD(G(h0)) = 0.2609;\tD(G(h1)) = 0.1919\n",
      "epoch: [8/20];\tloss_D: 0.7240;\tloss_G = 2.3298;\tD(x) = 0.7485;\tD(G(h0)) = 0.2505;\tD(G(h1)) = 0.1837\n",
      "epoch: [9/20];\tloss_D: 0.7506;\tloss_G = 2.3259;\tD(x) = 0.7456;\tD(G(h0)) = 0.2537;\tD(G(h1)) = 0.1858\n",
      "epoch: [10/20];\tloss_D: 0.7257;\tloss_G = 2.3716;\tD(x) = 0.7521;\tD(G(h0)) = 0.2464;\tD(G(h1)) = 0.1794\n",
      "epoch: [11/20];\tloss_D: 0.6796;\tloss_G = 2.4683;\tD(x) = 0.7630;\tD(G(h0)) = 0.2365;\tD(G(h1)) = 0.1684\n",
      "epoch: [12/20];\tloss_D: 0.6780;\tloss_G = 2.5358;\tD(x) = 0.7690;\tD(G(h0)) = 0.2299;\tD(G(h1)) = 0.1646\n",
      "epoch: [13/20];\tloss_D: 0.6696;\tloss_G = 2.5422;\tD(x) = 0.7692;\tD(G(h0)) = 0.2300;\tD(G(h1)) = 0.1647\n",
      "epoch: [14/20];\tloss_D: 0.6476;\tloss_G = 2.5956;\tD(x) = 0.7759;\tD(G(h0)) = 0.2232;\tD(G(h1)) = 0.1590\n",
      "epoch: [15/20];\tloss_D: 0.6263;\tloss_G = 2.6474;\tD(x) = 0.7827;\tD(G(h0)) = 0.2176;\tD(G(h1)) = 0.1553\n",
      "epoch: [16/20];\tloss_D: 0.6191;\tloss_G = 2.7064;\tD(x) = 0.7862;\tD(G(h0)) = 0.2127;\tD(G(h1)) = 0.1514\n",
      "epoch: [17/20];\tloss_D: 0.5769;\tloss_G = 2.7641;\tD(x) = 0.7971;\tD(G(h0)) = 0.2028;\tD(G(h1)) = 0.1421\n",
      "epoch: [18/20];\tloss_D: 0.6240;\tloss_G = 2.7716;\tD(x) = 0.7886;\tD(G(h0)) = 0.2105;\tD(G(h1)) = 0.1489\n",
      "epoch: [19/20];\tloss_D: 0.5316;\tloss_G = 2.8625;\tD(x) = 0.8097;\tD(G(h0)) = 0.1894;\tD(G(h1)) = 0.1344\n",
      "epoch: [20/20];\tloss_D: 0.6215;\tloss_G = 2.8346;\tD(x) = 0.7915;\tD(G(h0)) = 0.2086;\tD(G(h1)) = 0.1453\n"
     ]
    }
   ],
   "source": [
    "real_label = 1. # label values for calculating losses for G and D\n",
    "fake_label = 0.\n",
    "num_epochs = 20 # num times the learning algorithm will work through the entire training dataset\n",
    "\n",
    "# Lists to keep track of progress\n",
    "images_generated = []\n",
    "G_losses = []\n",
    "D_losses = []\n",
    "\n",
    "for epoch in range(num_epochs):\n",
    "    loss_D_sum = 0.\n",
    "    loss_G_sum = 0.\n",
    "    D_x_sum = 0.\n",
    "    D_G_h0_sum = 0.\n",
    "    D_G_h1_sum = 0.\n",
    "    for i, data in enumerate(dataloader, 0):\n",
    "        # ***** Train D: Maximize log(D(x)) + log(1 - D(G(h))) ***** #\n",
    "        \n",
    "        # 1. Train with a real-image batch\n",
    "        \n",
    "        images, _ = data               # underscore means we will ignore the label from dataset, since we don't need it\n",
    "        D.zero_grad()                  # zeroing out the gradients, so that parameter updates were done correctly. PyTorch accumulates the gradients on subsequent backward passes\n",
    "        real_batch = images.to(device) # loading tensor to device's memory, real_batch is a copy of loaded batch\n",
    "        b_size = real_batch.size(0)\n",
    "        label = torch.full((b_size,), real_label, dtype=torch.float, device=device) # Creating a tensor with real labels of the same dimensions as a tensor with data\n",
    "        output = D(real_batch).view(-1)        # Forward pass a real-image batch through D        \n",
    "        loss_D_real = criterion(output, label) # Calculate the loss log(D(x))\n",
    "        loss_D_real.backward()                 # Calculate gradients for D in backward pass\n",
    "        D_x = output.mean().item()             # get the mean from the output distribution, or an average decision of the D concernign real images \n",
    "        D_x_sum += D_x                         # I will sum mean's from each iteration to calculate the mean of the each epoch \n",
    "\n",
    "        # 2. Train with fake-image batch\n",
    "        \n",
    "        batch_h = torch.randn(b_size, latent_size, 1, 1, device=device) # Generate batch of latent space vectors\n",
    "        fake_batch = G(batch_h)                                         # Generate a fake-image batch with G\n",
    "        label.fill_(fake_label)                                         # fill already used label tensor label with fake_label constants\n",
    "        output = D(fake_batch.detach()).view(-1) # Forward pass a fake-image batch through D\n",
    "                                                 # detach() detaches the output from the computationnal graph, not sure why we need it though       \n",
    "        loss_D_fake = criterion(output, label)   # Calculate the loss log(1 - D(G(h)))\n",
    "        loss_D_fake.backward()                   # Calculate the gradients for this batch, accumulated with previous gradients\n",
    "        D_G_h0 = output.mean().item()\n",
    "        D_G_h0_sum += D_G_h0\n",
    "        loss_D = loss_D_real + loss_D_fake\n",
    "        loss_D_sum += loss_D.item()\n",
    "        optimizer_D.step()                       # adjust parameters in D with Adam optimizer \n",
    "\n",
    "        # ***** Train G: Maximize log(D(G(h))) ***** #\n",
    "        \n",
    "        G.zero_grad()\n",
    "        label.fill_(real_label)                  # for G fake labels are real, meaning G's desired outcome is to have fake images defined as real by D\n",
    "        output = D(fake_batch).view(-1)          # One more forward pass a fake-image batch through D after calling an optimizer on D\n",
    "        loss_G = criterion(output, label)        # Calculate the loss log(D(G(h)))\n",
    "        loss_G.backward()                        # Calculate gradients for G in backward pass\n",
    "        loss_G_sum += loss_G.item()\n",
    "        D_G_h1 = output.mean().item()\n",
    "        D_G_h1_sum += D_G_h1\n",
    "        optimizer_G.step()\n",
    "\n",
    "        # ***** Print Statistics ***** #\n",
    "        \n",
    "        if i == len(dataloader) - 1:\n",
    "            loss_D_float = loss_D_sum / len(dataloader)\n",
    "            loss_G_float = loss_G_sum / len(dataloader)\n",
    "            D_x = D_x_sum / len(dataloader)\n",
    "            D_G_h0 = D_G_h0_sum / len(dataloader)\n",
    "            D_G_h1 = D_G_h1_sum / len(dataloader)\n",
    "\n",
    "            print(\"epoch: [{}/{}];\\tloss_D: {:.4f};\\tloss_G = {:.4f};\\tD(x) = {:.4f};\\tD(G(h0)) = {:.4f};\\tD(G(h1)) = {:.4f}\".format(\n",
    "                epoch + 1, num_epochs, loss_D_float, loss_G_float, D_x, D_G_h0, D_G_h1))\n",
    "        \n",
    "        # ***** Save Generated Images ***** #\n",
    "        # save the generated images at the very first iter, at the last iter of 1st epoch and then the last iter of every 2nd epoch end of each epoch to further see the progress\n",
    "        \n",
    "        if (i == 0 and epoch == 0) or (i == len(dataloader) - 1 and epoch % 5 == 0):\n",
    "            with torch.no_grad():   # disable gradient calculation for this block, it will reduce memory consumption and increase computational speed, it's used for validation steps\n",
    "                images_generated_fixed_h = G(fixed_h).detach().cpu()\n",
    "            images_generated.append(images_generated_fixed_h)\n",
    "            \n",
    "        # Save Losses to depict them on graph after training\n",
    "        G_losses.append(loss_G.item())\n",
    "        D_losses.append(loss_D.item())"
   ]
  },
  {
   "cell_type": "markdown",
   "metadata": {},
   "source": [
    "### Stop D and G Learning Process"
   ]
  },
  {
   "cell_type": "markdown",
   "metadata": {},
   "source": [
    "This command will put all the layers into eval mode, in specific batch normalization will be deactivated."
   ]
  },
  {
   "cell_type": "code",
   "execution_count": 25,
   "metadata": {},
   "outputs": [
    {
     "data": {
      "text/plain": [
       "Discriminator(\n",
       "  (main): Sequential(\n",
       "    (0): Conv2d(1, 256, kernel_size=(4, 4), stride=(2, 2), padding=(1, 1), bias=False)\n",
       "    (1): LeakyReLU(negative_slope=0.2, inplace=True)\n",
       "    (2): Conv2d(256, 512, kernel_size=(4, 4), stride=(2, 2), padding=(1, 1), bias=False)\n",
       "    (3): BatchNorm2d(512, eps=1e-05, momentum=0.1, affine=True, track_running_stats=True)\n",
       "    (4): LeakyReLU(negative_slope=0.2, inplace=True)\n",
       "    (5): Conv2d(512, 1024, kernel_size=(3, 3), stride=(2, 2), bias=False)\n",
       "    (6): BatchNorm2d(1024, eps=1e-05, momentum=0.1, affine=True, track_running_stats=True)\n",
       "    (7): LeakyReLU(negative_slope=0.2, inplace=True)\n",
       "    (8): Conv2d(1024, 1, kernel_size=(3, 3), stride=(1, 1), bias=False)\n",
       "    (9): Sigmoid()\n",
       "  )\n",
       ")"
      ]
     },
     "execution_count": 25,
     "metadata": {},
     "output_type": "execute_result"
    }
   ],
   "source": [
    "D.eval()"
   ]
  },
  {
   "cell_type": "code",
   "execution_count": 26,
   "metadata": {},
   "outputs": [
    {
     "data": {
      "text/plain": [
       "Generator(\n",
       "  (main): Sequential(\n",
       "    (0): ConvTranspose2d(100, 1024, kernel_size=(3, 3), stride=(1, 1), bias=False)\n",
       "    (1): BatchNorm2d(1024, eps=1e-05, momentum=0.1, affine=True, track_running_stats=True)\n",
       "    (2): ReLU(inplace=True)\n",
       "    (3): ConvTranspose2d(1024, 512, kernel_size=(3, 3), stride=(2, 2), bias=False)\n",
       "    (4): BatchNorm2d(512, eps=1e-05, momentum=0.1, affine=True, track_running_stats=True)\n",
       "    (5): ReLU(inplace=True)\n",
       "    (6): ConvTranspose2d(512, 256, kernel_size=(4, 4), stride=(2, 2), padding=(1, 1), bias=False)\n",
       "    (7): BatchNorm2d(256, eps=1e-05, momentum=0.1, affine=True, track_running_stats=True)\n",
       "    (8): ReLU(inplace=True)\n",
       "    (9): ConvTranspose2d(256, 1, kernel_size=(4, 4), stride=(2, 2), padding=(1, 1), bias=False)\n",
       "    (10): Tanh()\n",
       "  )\n",
       ")"
      ]
     },
     "execution_count": 26,
     "metadata": {},
     "output_type": "execute_result"
    }
   ],
   "source": [
    "G.eval()"
   ]
  },
  {
   "cell_type": "markdown",
   "metadata": {},
   "source": [
    "### View Statistics"
   ]
  },
  {
   "cell_type": "markdown",
   "metadata": {},
   "source": [
    "View G and D's losses."
   ]
  },
  {
   "cell_type": "code",
   "execution_count": 27,
   "metadata": {},
   "outputs": [
    {
     "data": {
      "image/png": "[encoded data removed]",
      "text/plain": [
       "<Figure size 720x360 with 1 Axes>"
      ]
     },
     "metadata": {
      "needs_background": "light"
     },
     "output_type": "display_data"
    }
   ],
   "source": [
    "plt.figure(figsize=(10,5))\n",
    "plt.title(\"G and D Losses During Training\")\n",
    "plt.plot(G_losses,label=\"G\")\n",
    "plt.plot(D_losses,label=\"D\")\n",
    "plt.xlabel(\"Iterations\")\n",
    "plt.ylabel(\"Loss\")\n",
    "plt.legend()\n",
    "plt.show()"
   ]
  },
  {
   "cell_type": "markdown",
   "metadata": {},
   "source": [
    "### View Generated Images"
   ]
  },
  {
   "cell_type": "code",
   "execution_count": 33,
   "metadata": {},
   "outputs": [
    {
     "data": {
      "image/png": "[encoded data removed]",
      "text/plain": [
       "<Figure size 1080x540 with 50 Axes>"
      ]
     },
     "metadata": {
      "needs_background": "light"
     },
     "output_type": "display_data"
    }
   ],
   "source": [
    "rows    = len(images_generated)\n",
    "columns = num_of_fixed_h\n",
    "\n",
    "fig = plt.figure(figsize=(1.5 * columns, 1.5 * rows))\n",
    "fig.suptitle(\"Evolution of Generated Images\", fontsize=16)\n",
    "\n",
    "for r in range(rows):\n",
    "    for c in range(columns):\n",
    "        ax = plt.subplot(rows, columns, (c + 1) + (columns * r))\n",
    "        plt.imshow(images_generated[r][c].reshape(28, 28))\n",
    "        plt.gray()\n",
    "        ax.get_xaxis().set_visible(False)\n",
    "        ax.get_yaxis().set_visible(False)\n",
    "plt.show()"
   ]
  },
  {
   "cell_type": "markdown",
   "metadata": {},
   "source": [
    "The model has obviously evolved from the first iteration. Some 10 more iterations won't hurt though. "
   ]
  },
  {
   "cell_type": "markdown",
   "metadata": {},
   "source": [
    "### Save the models' state dictionaries"
   ]
  },
  {
   "cell_type": "code",
   "execution_count": 34,
   "metadata": {},
   "outputs": [],
   "source": [
    "if not os.path.exists(modelroot):\n",
    "     os.mkdir(modelroot)\n",
    "\n",
    "f = open(os.path.join(modelroot, 'g_state_dict.pt'), mode=\"wb\")\n",
    "torch.save(G.state_dict(), f)\n",
    "f.close()\n",
    "f = open(os.path.join(modelroot, 'd_state_dict.pt'), mode=\"wb\")\n",
    "torch.save(D.state_dict(), f)\n",
    "f.close()"
   ]
  },
  {
   "cell_type": "markdown",
   "metadata": {},
   "source": [
    "## Part 2.0. Feed-Forward Autoencoder"
   ]
  },
  {
   "cell_type": "markdown",
   "metadata": {},
   "source": [
    "I didn't got the task right from the very beggining. I thought I must have trained autoencoder and then use its encoder to work with DCGAN's generator. It didn't work eventually, but I will still leave it here. You can proceed to Part 2.1 directly."
   ]
  },
  {
   "cell_type": "markdown",
   "metadata": {},
   "source": [
    "#### Creating Autoencoder for obtaining Encoder E"
   ]
  },
  {
   "cell_type": "markdown",
   "metadata": {},
   "source": [
    "A simple neural network, that produces the same output as its input. Encoder obtains flattened image vector, that is an image converted to a one dimensional vector, and compresses the image into a latent space vector. Decoder obtains encoder's output as its input and tries to reconstruct the image. For the task in Part 2. I need encoder E only, but I'm creating the whole model for E to be able to learn with decoder. "
   ]
  },
  {
   "cell_type": "code",
   "execution_count": 33,
   "metadata": {},
   "outputs": [],
   "source": [
    "flattened_image_size = 28 * 28\n",
    "\n",
    "class Autoencoder(nn.Module):\n",
    "    def __init__(self):\n",
    "        super().__init__()\n",
    "        self.encoder = nn.Sequential(\n",
    "            nn.Linear(flattened_image_size, 512),\n",
    "            nn.ReLU(True),\n",
    "            nn.Linear(512, 256),\n",
    "            nn.ReLU(True),\n",
    "            nn.Linear(256, 128),\n",
    "            nn.ReLU(True),\n",
    "            nn.Linear(128, latent_size)\n",
    "        )\n",
    "        self.decoder = nn.Sequential(\n",
    "            nn.Linear(latent_size, 128),\n",
    "            nn.ReLU(True),\n",
    "            nn.Linear(128, 256),\n",
    "            nn.ReLU(True),\n",
    "            nn.Linear(256, 512),\n",
    "            nn.ReLU(True),\n",
    "            nn.Linear(512, flattened_image_size),\n",
    "        )\n",
    "\n",
    "    def forward(self, x):\n",
    "        x = self.encoder(x)\n",
    "        x = self.decoder(x)\n",
    "        return x\n"
   ]
  },
  {
   "cell_type": "code",
   "execution_count": 34,
   "metadata": {},
   "outputs": [
    {
     "name": "stdout",
     "output_type": "stream",
     "text": [
      "Autoencoder(\n",
      "  (encoder): Sequential(\n",
      "    (0): Linear(in_features=784, out_features=512, bias=True)\n",
      "    (1): ReLU(inplace=True)\n",
      "    (2): Linear(in_features=512, out_features=256, bias=True)\n",
      "    (3): ReLU(inplace=True)\n",
      "    (4): Linear(in_features=256, out_features=128, bias=True)\n",
      "    (5): ReLU(inplace=True)\n",
      "    (6): Linear(in_features=128, out_features=100, bias=True)\n",
      "  )\n",
      "  (decoder): Sequential(\n",
      "    (0): Linear(in_features=100, out_features=128, bias=True)\n",
      "    (1): ReLU(inplace=True)\n",
      "    (2): Linear(in_features=128, out_features=256, bias=True)\n",
      "    (3): ReLU(inplace=True)\n",
      "    (4): Linear(in_features=256, out_features=512, bias=True)\n",
      "    (5): ReLU(inplace=True)\n",
      "    (6): Linear(in_features=512, out_features=784, bias=True)\n",
      "  )\n",
      ")\n"
     ]
    }
   ],
   "source": [
    "A = Autoencoder().to(device)\n",
    "print(A)\n",
    "\n",
    "criterion = nn.MSELoss()\n",
    "optimizer_A = optim.Adam(A.parameters(), lr=lr, betas=(beta1, 0.999))"
   ]
  },
  {
   "cell_type": "markdown",
   "metadata": {},
   "source": [
    "### load model parameters instead of training if needed"
   ]
  },
  {
   "cell_type": "code",
   "execution_count": 35,
   "metadata": {},
   "outputs": [
    {
     "data": {
      "text/plain": [
       "Autoencoder(\n",
       "  (encoder): Sequential(\n",
       "    (0): Linear(in_features=784, out_features=512, bias=True)\n",
       "    (1): ReLU(inplace=True)\n",
       "    (2): Linear(in_features=512, out_features=256, bias=True)\n",
       "    (3): ReLU(inplace=True)\n",
       "    (4): Linear(in_features=256, out_features=128, bias=True)\n",
       "    (5): ReLU(inplace=True)\n",
       "    (6): Linear(in_features=128, out_features=100, bias=True)\n",
       "  )\n",
       "  (decoder): Sequential(\n",
       "    (0): Linear(in_features=100, out_features=128, bias=True)\n",
       "    (1): ReLU(inplace=True)\n",
       "    (2): Linear(in_features=128, out_features=256, bias=True)\n",
       "    (3): ReLU(inplace=True)\n",
       "    (4): Linear(in_features=256, out_features=512, bias=True)\n",
       "    (5): ReLU(inplace=True)\n",
       "    (6): Linear(in_features=512, out_features=784, bias=True)\n",
       "  )\n",
       ")"
      ]
     },
     "execution_count": 35,
     "metadata": {},
     "output_type": "execute_result"
    }
   ],
   "source": [
    "A.load_state_dict(torch.load(os.path.join(modelroot, 'a_state_dict.pt')))\n",
    "A.eval()"
   ]
  },
  {
   "cell_type": "markdown",
   "metadata": {},
   "source": [
    "### Autoencoder Training"
   ]
  },
  {
   "cell_type": "code",
   "execution_count": 37,
   "metadata": {},
   "outputs": [
    {
     "data": {
      "text/plain": [
       "Autoencoder(\n",
       "  (encoder): Sequential(\n",
       "    (0): Linear(in_features=784, out_features=512, bias=True)\n",
       "    (1): ReLU(inplace=True)\n",
       "    (2): Linear(in_features=512, out_features=256, bias=True)\n",
       "    (3): ReLU(inplace=True)\n",
       "    (4): Linear(in_features=256, out_features=128, bias=True)\n",
       "    (5): ReLU(inplace=True)\n",
       "    (6): Linear(in_features=128, out_features=100, bias=True)\n",
       "  )\n",
       "  (decoder): Sequential(\n",
       "    (0): Linear(in_features=100, out_features=128, bias=True)\n",
       "    (1): ReLU(inplace=True)\n",
       "    (2): Linear(in_features=128, out_features=256, bias=True)\n",
       "    (3): ReLU(inplace=True)\n",
       "    (4): Linear(in_features=256, out_features=512, bias=True)\n",
       "    (5): ReLU(inplace=True)\n",
       "    (6): Linear(in_features=512, out_features=784, bias=True)\n",
       "  )\n",
       ")"
      ]
     },
     "execution_count": 37,
     "metadata": {},
     "output_type": "execute_result"
    }
   ],
   "source": [
    "A.train()"
   ]
  },
  {
   "cell_type": "code",
   "execution_count": 39,
   "metadata": {},
   "outputs": [
    {
     "name": "stdout",
     "output_type": "stream",
     "text": [
      "epoch: [1/60];\tloss_A: 0.0296\n",
      "epoch: [2/60];\tloss_A: 0.0324\n",
      "epoch: [3/60];\tloss_A: 0.0280\n",
      "epoch: [4/60];\tloss_A: 0.0286\n",
      "epoch: [5/60];\tloss_A: 0.0268\n",
      "epoch: [6/60];\tloss_A: 0.0289\n",
      "epoch: [7/60];\tloss_A: 0.0332\n",
      "epoch: [8/60];\tloss_A: 0.0323\n",
      "epoch: [9/60];\tloss_A: 0.0272\n",
      "epoch: [10/60];\tloss_A: 0.0276\n",
      "epoch: [11/60];\tloss_A: 0.0278\n",
      "epoch: [12/60];\tloss_A: 0.0278\n",
      "epoch: [13/60];\tloss_A: 0.0279\n",
      "epoch: [14/60];\tloss_A: 0.0273\n",
      "epoch: [15/60];\tloss_A: 0.0298\n",
      "epoch: [16/60];\tloss_A: 0.0294\n",
      "epoch: [17/60];\tloss_A: 0.0278\n",
      "epoch: [18/60];\tloss_A: 0.0251\n",
      "epoch: [19/60];\tloss_A: 0.0259\n",
      "epoch: [20/60];\tloss_A: 0.0295\n",
      "epoch: [21/60];\tloss_A: 0.0266\n",
      "epoch: [22/60];\tloss_A: 0.0275\n",
      "epoch: [23/60];\tloss_A: 0.0257\n",
      "epoch: [24/60];\tloss_A: 0.0252\n",
      "epoch: [25/60];\tloss_A: 0.0263\n",
      "epoch: [26/60];\tloss_A: 0.0264\n",
      "epoch: [27/60];\tloss_A: 0.0266\n",
      "epoch: [28/60];\tloss_A: 0.0258\n",
      "epoch: [29/60];\tloss_A: 0.0260\n",
      "epoch: [30/60];\tloss_A: 0.0248\n",
      "epoch: [31/60];\tloss_A: 0.0253\n",
      "epoch: [32/60];\tloss_A: 0.0284\n",
      "epoch: [33/60];\tloss_A: 0.0243\n",
      "epoch: [34/60];\tloss_A: 0.0234\n",
      "epoch: [35/60];\tloss_A: 0.0245\n",
      "epoch: [36/60];\tloss_A: 0.0240\n",
      "epoch: [37/60];\tloss_A: 0.0250\n",
      "epoch: [38/60];\tloss_A: 0.0262\n",
      "epoch: [39/60];\tloss_A: 0.0259\n",
      "epoch: [40/60];\tloss_A: 0.0234\n",
      "epoch: [41/60];\tloss_A: 0.0248\n",
      "epoch: [42/60];\tloss_A: 0.0242\n",
      "epoch: [43/60];\tloss_A: 0.0244\n",
      "epoch: [44/60];\tloss_A: 0.0248\n",
      "epoch: [45/60];\tloss_A: 0.0229\n",
      "epoch: [46/60];\tloss_A: 0.0227\n",
      "epoch: [47/60];\tloss_A: 0.0242\n",
      "epoch: [48/60];\tloss_A: 0.0240\n",
      "epoch: [49/60];\tloss_A: 0.0234\n",
      "epoch: [50/60];\tloss_A: 0.0242\n",
      "epoch: [51/60];\tloss_A: 0.0260\n",
      "epoch: [52/60];\tloss_A: 0.0234\n",
      "epoch: [53/60];\tloss_A: 0.0238\n",
      "epoch: [54/60];\tloss_A: 0.0235\n",
      "epoch: [55/60];\tloss_A: 0.0246\n",
      "epoch: [56/60];\tloss_A: 0.0224\n",
      "epoch: [57/60];\tloss_A: 0.0242\n",
      "epoch: [58/60];\tloss_A: 0.0219\n",
      "epoch: [59/60];\tloss_A: 0.0229\n",
      "epoch: [60/60];\tloss_A: 0.0236\n"
     ]
    }
   ],
   "source": [
    "A_losses = []\n",
    "num_epochs = 60\n",
    "\n",
    "for epoch in range(num_epochs):\n",
    "    loss_A_sum = 0.\n",
    "    for i, data in enumerate(dataloader, 0):\n",
    "        images, _ = data\n",
    "        images = images.to(device)\n",
    "        images = images.view(images.size(0), -1)\n",
    "        optimizer_A.zero_grad()\n",
    "        output = A(images)\n",
    "        loss_A = criterion(output, images)\n",
    "        loss_A.backward()\n",
    "        optimizer_A.step()\n",
    "        loss_A_sum += loss_A.item()\n",
    "        \n",
    "        # ***** Update Statistics ***** #\n",
    "        \n",
    "        if i == len(dataloader) - 1:\n",
    "            loss_A_float = loss_A_sum / len(dataloader)\n",
    "            print(\"epoch: [{}/{}];\\tloss_A: {:.4f}\".format(epoch + 1, num_epochs, loss_A.item()))\n",
    "\n",
    "        # Save training statistics\n",
    "        A_losses.append(loss_A.item())\n",
    "\n",
    "images_decoded = output.detach().cpu()"
   ]
  },
  {
   "cell_type": "markdown",
   "metadata": {},
   "source": [
    "### Stop the Learning Process"
   ]
  },
  {
   "cell_type": "code",
   "execution_count": 40,
   "metadata": {},
   "outputs": [
    {
     "data": {
      "text/plain": [
       "Autoencoder(\n",
       "  (encoder): Sequential(\n",
       "    (0): Linear(in_features=784, out_features=512, bias=True)\n",
       "    (1): ReLU(inplace=True)\n",
       "    (2): Linear(in_features=512, out_features=256, bias=True)\n",
       "    (3): ReLU(inplace=True)\n",
       "    (4): Linear(in_features=256, out_features=128, bias=True)\n",
       "    (5): ReLU(inplace=True)\n",
       "    (6): Linear(in_features=128, out_features=100, bias=True)\n",
       "  )\n",
       "  (decoder): Sequential(\n",
       "    (0): Linear(in_features=100, out_features=128, bias=True)\n",
       "    (1): ReLU(inplace=True)\n",
       "    (2): Linear(in_features=128, out_features=256, bias=True)\n",
       "    (3): ReLU(inplace=True)\n",
       "    (4): Linear(in_features=256, out_features=512, bias=True)\n",
       "    (5): ReLU(inplace=True)\n",
       "    (6): Linear(in_features=512, out_features=784, bias=True)\n",
       "  )\n",
       ")"
      ]
     },
     "execution_count": 40,
     "metadata": {},
     "output_type": "execute_result"
    }
   ],
   "source": [
    "A.eval()"
   ]
  },
  {
   "cell_type": "markdown",
   "metadata": {},
   "source": [
    "### View Statistics"
   ]
  },
  {
   "cell_type": "code",
   "execution_count": 41,
   "metadata": {},
   "outputs": [
    {
     "data": {
      "image/png": "[encoded data removed]",
      "text/plain": [
       "<Figure size 720x360 with 1 Axes>"
      ]
     },
     "metadata": {
      "needs_background": "light"
     },
     "output_type": "display_data"
    }
   ],
   "source": [
    "plt.figure(figsize=(10,5))\n",
    "plt.title(\"A Losses During Training\")\n",
    "plt.plot(A_losses, label=\"A\")\n",
    "plt.xlabel(\"iterations\")\n",
    "plt.ylabel(\"Loss\")\n",
    "plt.legend()\n",
    "plt.show()"
   ]
  },
  {
   "cell_type": "markdown",
   "metadata": {},
   "source": [
    "### View Original VS Reconstructed Images"
   ]
  },
  {
   "cell_type": "code",
   "execution_count": 42,
   "metadata": {},
   "outputs": [
    {
     "data": {
      "image/png": "[encoded data removed]",
      "text/plain": [
       "<Figure size 1440x288 with 20 Axes>"
      ]
     },
     "metadata": {
      "needs_background": "light"
     },
     "output_type": "display_data"
    }
   ],
   "source": [
    "columns = 10\n",
    "\n",
    "fig = plt.figure(figsize=(20, 4))\n",
    "fig.suptitle(\"Dataset Overview: Original VS Decoded\", fontsize=16)\n",
    "for i in range(columns):\n",
    "    #original dataset samples\n",
    "    ax = plt.subplot(2, columns, i + 1)             # rows, columns, index\n",
    "    plt.imshow(images[i].cpu().data.reshape(28,28)) # original dataset samples from the last iteration\n",
    "                                                    #cpu() moves tensor from GPU to CPU memory, but since I don't do any assignment - it's just a copy.\n",
    "                                                    # reshape() is a numpy method that cannot work on cuda tensor\n",
    "    plt.gray()\n",
    "    ax.get_xaxis().set_visible(False)\n",
    "    ax.get_yaxis().set_visible(False)\n",
    "\n",
    "    plt.subplot(2, columns, i + columns + 1)\n",
    "    plt.imshow(images_decoded[i].reshape(28, 28))   #decoded dataset samples\n",
    "    plt.gray()\n",
    "    ax.get_xaxis().set_visible(False)\n",
    "    ax.get_yaxis().set_visible(False)\n",
    "\n",
    "plt.show()"
   ]
  },
  {
   "cell_type": "markdown",
   "metadata": {},
   "source": [
    "They definitely look alike :)"
   ]
  },
  {
   "cell_type": "markdown",
   "metadata": {},
   "source": [
    "### Save the model's state dictionaries"
   ]
  },
  {
   "cell_type": "code",
   "execution_count": 43,
   "metadata": {},
   "outputs": [],
   "source": [
    "if not os.path.exists(modelroot):\n",
    "     os.mkdir(modelroot)\n",
    "\n",
    "f = open(os.path.join(modelroot, 'a_state_dict.pt'), mode=\"wb\")\n",
    "torch.save(A.state_dict(), f)\n",
    "f.close()"
   ]
  },
  {
   "cell_type": "markdown",
   "metadata": {},
   "source": [
    "#### E trained on Autoencoder's decoder. E --> h_E --> G"
   ]
  },
  {
   "cell_type": "markdown",
   "metadata": {},
   "source": [
    "Lets encode a batch of images through E and feed them to G."
   ]
  },
  {
   "cell_type": "code",
   "execution_count": 64,
   "metadata": {},
   "outputs": [],
   "source": [
    "random_images, _ = next(iter(dataloader))\n",
    "random_images    = random_images[:10].to(device)\n",
    "random_images    = random_images.view(random_images.size(0), -1)\n",
    "\n",
    "h_E              = A.encoder(random_images)\n",
    "h_E = h_E.view(h_E.size(0), -1, fixed_h.size(2), fixed_h.size(3))\n",
    "h_E_to_G_output = G(h_E).detach().cpu()"
   ]
  },
  {
   "cell_type": "markdown",
   "metadata": {},
   "source": [
    "#### View Original VS Decoded Image"
   ]
  },
  {
   "cell_type": "code",
   "execution_count": 68,
   "metadata": {},
   "outputs": [
    {
     "data": {
      "image/png": "[encoded data removed]",
      "text/plain": [
       "<Figure size 1440x288 with 2 Axes>"
      ]
     },
     "metadata": {
      "needs_background": "light"
     },
     "output_type": "display_data"
    }
   ],
   "source": [
    "n = 1\n",
    "fig = plt.figure(figsize=(20, 4))\n",
    "fig.suptitle(\"Dataset Overview: Original VS Decoded\", fontsize=16)\n",
    "for i in range(n):\n",
    "    #original dataset samples\n",
    "    ax = plt.subplot(2, n, i + 1)\n",
    "    plt.imshow(random_images[0].cpu().data.reshape(28,28))\n",
    "    plt.gray()\n",
    "    ax.get_xaxis().set_visible(False)\n",
    "    ax.get_yaxis().set_visible(False)\n",
    "    #decoded dataset samples\n",
    "    plt.subplot(2, n, i + n + 1)\n",
    "    plt.imshow(h_E_to_G_output[0].reshape(28, 28))\n",
    "    plt.gray()\n",
    "    ax.get_xaxis().set_visible(False)\n",
    "    ax.get_yaxis().set_visible(False)\n",
    "plt.show()"
   ]
  },
  {
   "cell_type": "markdown",
   "metadata": {},
   "source": [
    "It didn't work. So I need to train encoder on a fixed generator, before trying to get an expected result of their common work."
   ]
  },
  {
   "cell_type": "markdown",
   "metadata": {},
   "source": [
    "## Part 2.1. Autonomous Encoder. Encoder Training on DCGAN's Generator"
   ]
  },
  {
   "cell_type": "markdown",
   "metadata": {},
   "source": [
    "I will train E only here, while G is a fixed generator, that will be involved in E's learning process."
   ]
  },
  {
   "cell_type": "code",
   "execution_count": 21,
   "metadata": {},
   "outputs": [],
   "source": [
    "flattened_image_size = 28 * 28\n",
    "\n",
    "class Encoder(nn.Module):\n",
    "    def __init__(self):\n",
    "        super().__init__()\n",
    "        self.main = nn.Sequential(\n",
    "            nn.Linear(flattened_image_size, 512),\n",
    "            nn.ReLU(True),\n",
    "            nn.Linear(512, 256),\n",
    "            nn.ReLU(True),\n",
    "            nn.Linear(256, 128),\n",
    "            nn.ReLU(True),\n",
    "            nn.Linear(128, latent_size)\n",
    "        )\n",
    "\n",
    "    def forward(self, input):\n",
    "        return self.main(input)"
   ]
  },
  {
   "cell_type": "code",
   "execution_count": 23,
   "metadata": {},
   "outputs": [
    {
     "name": "stdout",
     "output_type": "stream",
     "text": [
      "Encoder(\n",
      "  (main): Sequential(\n",
      "    (0): Linear(in_features=784, out_features=512, bias=True)\n",
      "    (1): ReLU(inplace=True)\n",
      "    (2): Linear(in_features=512, out_features=256, bias=True)\n",
      "    (3): ReLU(inplace=True)\n",
      "    (4): Linear(in_features=256, out_features=128, bias=True)\n",
      "    (5): ReLU(inplace=True)\n",
      "    (6): Linear(in_features=128, out_features=100, bias=True)\n",
      "  )\n",
      ")\n"
     ]
    }
   ],
   "source": [
    "E = Encoder().to(device)\n",
    "print(E)\n",
    "\n",
    "criterion = nn.MSELoss()\n",
    "optimizer_E = optim.Adam(E.parameters(), lr=lr, betas=(beta1, 0.999))"
   ]
  },
  {
   "cell_type": "markdown",
   "metadata": {},
   "source": [
    "### load model parameters instead of training if needed"
   ]
  },
  {
   "cell_type": "code",
   "execution_count": null,
   "metadata": {},
   "outputs": [],
   "source": [
    "A.load_state_dict(torch.load(os.path.join(modelroot, 'e_state_dict.pt')))\n",
    "A.eval()"
   ]
  },
  {
   "cell_type": "markdown",
   "metadata": {},
   "source": [
    "### Encoder E Training"
   ]
  },
  {
   "cell_type": "code",
   "execution_count": 24,
   "metadata": {},
   "outputs": [
    {
     "data": {
      "text/plain": [
       "Encoder(\n",
       "  (main): Sequential(\n",
       "    (0): Linear(in_features=784, out_features=512, bias=True)\n",
       "    (1): ReLU(inplace=True)\n",
       "    (2): Linear(in_features=512, out_features=256, bias=True)\n",
       "    (3): ReLU(inplace=True)\n",
       "    (4): Linear(in_features=256, out_features=128, bias=True)\n",
       "    (5): ReLU(inplace=True)\n",
       "    (6): Linear(in_features=128, out_features=100, bias=True)\n",
       "  )\n",
       ")"
      ]
     },
     "execution_count": 24,
     "metadata": {},
     "output_type": "execute_result"
    }
   ],
   "source": [
    "E.train()"
   ]
  },
  {
   "cell_type": "code",
   "execution_count": 48,
   "metadata": {},
   "outputs": [
    {
     "name": "stdout",
     "output_type": "stream",
     "text": [
      "epoch: [1/10];\tloss_E: 0.0700\n",
      "epoch: [2/10];\tloss_E: 0.0658\n",
      "epoch: [3/10];\tloss_E: 0.0656\n",
      "epoch: [4/10];\tloss_E: 0.0589\n",
      "epoch: [5/10];\tloss_E: 0.0602\n",
      "epoch: [6/10];\tloss_E: 0.0580\n",
      "epoch: [7/10];\tloss_E: 0.0541\n",
      "epoch: [8/10];\tloss_E: 0.0487\n",
      "epoch: [9/10];\tloss_E: 0.0468\n",
      "epoch: [10/10];\tloss_E: 0.0476\n"
     ]
    }
   ],
   "source": [
    "E_losses = []\n",
    "num_epochs = 10\n",
    "\n",
    "for epoch in range(num_epochs):\n",
    "    loss_E_sum = 0.\n",
    "    for i, data in enumerate(dataloader, 0):\n",
    "        images, _ = data\n",
    "        images = images.to(device)\n",
    "        images = images.view(images.size(0), -1)\n",
    "        optimizer_E.zero_grad()\n",
    "        h_E = E(images)                                                                  # get a latent space vector\n",
    "        h_E = h_E.view(h_E.size(0), -1, fixed_h.size(2), fixed_h.size(3))                # G takes a 4 dim tensor as an input\n",
    "        generated_images = G(h_E)                                                        # generate images\n",
    "        generated_images = generated_images.cpu().reshape(generated_images.size(0), -1)  # flatten the image from 4 to 2 dims\n",
    "        generated_images = generated_images.to(device)\n",
    "        loss_E = criterion(generated_images, images)\n",
    "        loss_E.backward()\n",
    "        optimizer_E.step()\n",
    "        loss_E_sum += loss_E.item()\n",
    "        \n",
    "        # ***** Update Statistics ***** #\n",
    "        \n",
    "        if i == len(dataloader) - 1:\n",
    "            loss_E_float = loss_E_sum / len(dataloader)\n",
    "            print(\"epoch: [{}/{}];\\tloss_E: {:.4f}\".format(epoch + 1, num_epochs, loss_E.item()))\n",
    "\n",
    "        # Save training statistics\n",
    "        E_losses.append(loss_E.item())\n",
    "\n",
    "images_decoded = generated_images.detach().cpu()"
   ]
  },
  {
   "cell_type": "markdown",
   "metadata": {},
   "source": [
    "### Stop the Learning Process"
   ]
  },
  {
   "cell_type": "code",
   "execution_count": 52,
   "metadata": {},
   "outputs": [
    {
     "data": {
      "text/plain": [
       "Encoder(\n",
       "  (main): Sequential(\n",
       "    (0): Linear(in_features=784, out_features=512, bias=True)\n",
       "    (1): ReLU(inplace=True)\n",
       "    (2): Linear(in_features=512, out_features=256, bias=True)\n",
       "    (3): ReLU(inplace=True)\n",
       "    (4): Linear(in_features=256, out_features=128, bias=True)\n",
       "    (5): ReLU(inplace=True)\n",
       "    (6): Linear(in_features=128, out_features=100, bias=True)\n",
       "  )\n",
       ")"
      ]
     },
     "execution_count": 52,
     "metadata": {},
     "output_type": "execute_result"
    }
   ],
   "source": [
    "E.eval()"
   ]
  },
  {
   "cell_type": "code",
   "execution_count": 49,
   "metadata": {},
   "outputs": [
    {
     "data": {
      "image/png": "[encoded data removed]",
      "text/plain": [
       "<Figure size 1440x288 with 20 Axes>"
      ]
     },
     "metadata": {
      "needs_background": "light"
     },
     "output_type": "display_data"
    }
   ],
   "source": [
    "columns = 10\n",
    "\n",
    "images_decoded = generated_images.detach().cpu()\n",
    "fig = plt.figure(figsize=(20, 4))\n",
    "fig.suptitle(\"Dataset Overview: Original VS Decoded\", fontsize=16)\n",
    "for i in range(columns):\n",
    "    #original dataset samples\n",
    "    ax = plt.subplot(2, columns, i + 1)             # rows, columns, index\n",
    "    plt.imshow(images[i].cpu().data.reshape(28,28)) # original dataset samples from the last iteration\n",
    "                                                    #cpu() moves tensor from GPU to CPU memory, but since I don't do any assignment - it's just a copy.\n",
    "                                                    # reshape() is a numpy method that cannot work on cuda tensor\n",
    "    plt.gray()\n",
    "    ax.get_xaxis().set_visible(False)\n",
    "    ax.get_yaxis().set_visible(False)\n",
    "\n",
    "    plt.subplot(2, columns, i + columns + 1)\n",
    "    plt.imshow(images_decoded[i].reshape(28, 28))   #decoded dataset samples\n",
    "    plt.gray()\n",
    "    ax.get_xaxis().set_visible(False)\n",
    "    ax.get_yaxis().set_visible(False)\n",
    "\n",
    "plt.show()"
   ]
  },
  {
   "cell_type": "markdown",
   "metadata": {},
   "source": [
    "This time encoded/decoded images look much better. I wouldn't even say which one is a fake."
   ]
  },
  {
   "cell_type": "markdown",
   "metadata": {},
   "source": [
    "### View Statistics"
   ]
  },
  {
   "cell_type": "code",
   "execution_count": 57,
   "metadata": {},
   "outputs": [
    {
     "data": {
      "image/png": "[encoded data removed]",
      "text/plain": [
       "<Figure size 720x360 with 1 Axes>"
      ]
     },
     "metadata": {
      "needs_background": "light"
     },
     "output_type": "display_data"
    }
   ],
   "source": [
    "plt.figure(figsize=(10,5))\n",
    "plt.title(\"E Losses During Training\")\n",
    "plt.plot(E_losses, label=\"E\")\n",
    "plt.xlabel(\"iterations\")\n",
    "plt.ylabel(\"Loss\")\n",
    "plt.legend()\n",
    "plt.show()"
   ]
  },
  {
   "cell_type": "markdown",
   "metadata": {},
   "source": [
    "### Save the models' state dictionaries"
   ]
  },
  {
   "cell_type": "code",
   "execution_count": 54,
   "metadata": {},
   "outputs": [],
   "source": [
    "if not os.path.exists(modelroot):\n",
    "     os.mkdir(modelroot)\n",
    "\n",
    "f = open(os.path.join(modelroot, 'e_state_dict.pt'), mode=\"wb\")\n",
    "torch.save(G.state_dict(), f)\n",
    "f.close()"
   ]
  },
  {
   "cell_type": "markdown",
   "metadata": {},
   "source": [
    "### Clear the Memory"
   ]
  },
  {
   "cell_type": "code",
   "execution_count": null,
   "metadata": {},
   "outputs": [],
   "source": [
    "import IPython\n",
    "app = IPython.Application.instance()\n",
    "app.kernel.do_shutdown(True)"
   ]
  }
 ],
 "metadata": {
  "kernelspec": {
   "display_name": "Python 3",
   "language": "python",
   "name": "python3"
  },
  "language_info": {
   "codemirror_mode": {
    "name": "ipython",
    "version": 3
   },
   "file_extension": ".py",
   "mimetype": "text/x-python",
   "name": "python",
   "nbconvert_exporter": "python",
   "pygments_lexer": "ipython3",
   "version": "3.8.5"
  }
 },
 "nbformat": 4,
 "nbformat_minor": 4
}
